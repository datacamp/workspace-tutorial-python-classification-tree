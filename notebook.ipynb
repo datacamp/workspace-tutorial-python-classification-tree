{
 "cells": [
  {
   "cell_type": "markdown",
   "id": "4be58857-7ab7-4038-89fa-967805dbee1e",
   "metadata": {},
   "source": [
    "# Supervised Learning—How to do a Classification Tree in Python"
   ]
  },
  {
   "cell_type": "markdown",
   "id": "7b9d1ed7-b3d7-4f8e-b2d2-1b8783db5ea2",
   "metadata": {},
   "source": [
    "## When to use a classification tree"
   ]
  },
  {
   "cell_type": "markdown",
   "id": "29bb2b6c-8368-4acc-aef8-b302b516b99c",
   "metadata": {},
   "source": [
    "- When the response variable (the thing you are trying to predict) is a logical (true or false) or categorical variable.\n",
    "- You need easy interpretability of the results.\n",
    "- You want a computationally cheap model.\n",
    "- You want to convert continuous features into categorical features as a feature engineering step for a deep learning model."
   ]
  },
  {
   "cell_type": "markdown",
   "id": "297a6b12-adcf-48fd-947c-39107bfd2c8e",
   "metadata": {},
   "source": [
    "## Do you actually want an ensemble of classification trees?"
   ]
  },
  {
   "cell_type": "markdown",
   "id": "3f87e7f1-993d-4eba-8bb5-e3ff4f9fade0",
   "metadata": {},
   "source": [
    "Classification trees are very simple models which often have weak predictive power. In most cases, you need to increase their power and robustness by using an ensemble of trees. That means:\n",
    "\n",
    "- a bagging method like random forests, or\n",
    "- a boosting method like gradient boosting."
   ]
  },
  {
   "cell_type": "markdown",
   "id": "b582eb8d-b56f-4d7c-aef3-ab4fadbe00c3",
   "metadata": {},
   "source": [
    "## Which Python packages can you use?"
   ]
  },
  {
   "cell_type": "markdown",
   "id": "7fa44c3c-1c91-41a5-b517-4d5e5e8115c3",
   "metadata": {},
   "source": [
    "- scikit learn (used here)\n",
    "- PyCaret"
   ]
  },
  {
   "cell_type": "markdown",
   "id": "f7d08841-ca83-43a1-993b-7c8eabd88526",
   "metadata": {
    "tags": []
   },
   "source": [
    "## Case study: determining the variety of raisin"
   ]
  },
  {
   "cell_type": "markdown",
   "id": "0d93c88e-ce95-4933-958b-c00ebd462b3d",
   "metadata": {},
   "source": [
    "Automated food detection is useful in food production, food safety, and dietary monitoring. \n",
    "\n",
    "The process traditionally has two steps:\n",
    "\n",
    "1. Convert images of food into numeric features, like dimensions, shape, color.\n",
    "2. Run a classification model on those features.\n",
    "\n",
    "This raisin dataset, sourced from the [UCI Machine Learning Archive](https://archive.ics.uci.edu/ml/datasets/Raisin+Dataset) contains the output of step 1 for varieties of Turkish raisin.\n",
    "\n",
    "We'll need **pandas** for importing the data and doing some manipulation, then **scikit-learn** for modeling, and **matplotlib** for plotting."
   ]
  },
  {
   "cell_type": "code",
   "execution_count": null,
   "id": "f962b80f-c09f-47c4-9921-b56e12fb7bd0",
   "metadata": {},
   "outputs": [],
   "source": []
  },
  {
   "cell_type": "markdown",
   "id": "8d317862-d800-40e4-a3be-b9493c4b93e4",
   "metadata": {},
   "source": [
    "The dataset is in a CSV file named `\"raisins.csv\"`."
   ]
  },
  {
   "cell_type": "code",
   "execution_count": null,
   "id": "c1ce6f7d-9070-43ff-8def-5e6d44fcec92",
   "metadata": {},
   "outputs": [],
   "source": []
  },
  {
   "cell_type": "markdown",
   "id": "d0530534-727d-4a0b-b287-bcf688619923",
   "metadata": {},
   "source": [
    "## Data dictionary"
   ]
  },
  {
   "cell_type": "markdown",
   "id": "80ecf77a-b5a5-4823-853c-f200e8f6ad3c",
   "metadata": {},
   "source": [
    "Each row represents one raisin. Some columns are easier to interpret if you think of the raisin as being an ellipse.\n",
    "\n",
    "![](ellipse.png)\n",
    "\n",
    "- **Area**: Area of the raisin in pixels. Approximately `pi * a * b`.\n",
    "- **MajorAxisLength**: The length of the longest diameter of the raisin in pixels. Equal to `2 * b`.\n",
    "- **MinorAxisLength**: The length of the shortest diameter of the raisin in pixels. Equal to `2 * a`.\n",
    "- **Eccentricity**: How close to circular is the raisin? Equal to `sqrt(1 - (2 * a) ^ 2 / (2 * b) ** 2)`.\n",
    "- **ConvexArea**: Area of smallest convex shape around the raisin in pixel. Approximately `pi * a * b`, and slightly more than Area.\n",
    "- **Extent**: Fraction of a rectangle drawn around the raisin that contains the raisin image.\n",
    "- **Perimeter**: Perimeter of the raisin in pixels. Approximately `pi * (3 * (a + b) - sqrt((3 * a + b) * (a + 3 * b)))`\n",
    "- **Variety**: The variety of raisin. Either **Kecimen** (sour black grape) or **Besni** (pale grape)."
   ]
  },
  {
   "cell_type": "markdown",
   "id": "fabed788-dc3c-451a-977f-99225dfbfc03",
   "metadata": {},
   "source": [
    "## Splitting into response and explanatory columns"
   ]
  },
  {
   "cell_type": "markdown",
   "id": "1f783c76-6966-4791-9c58-2ee67c3b7bf3",
   "metadata": {},
   "source": [
    "The response column is `\"Variety\"`. The explanatory (input) columns are all the other columns."
   ]
  },
  {
   "cell_type": "code",
   "execution_count": null,
   "id": "31420b15-39a6-473b-b939-3fbfe8082ebf",
   "metadata": {},
   "outputs": [],
   "source": []
  },
  {
   "cell_type": "markdown",
   "id": "d9c208df-bb6b-4b44-8391-92cfd6d137fd",
   "metadata": {},
   "source": [
    "## Splitting into training and testing sets"
   ]
  },
  {
   "cell_type": "markdown",
   "id": "18ed0914-04e4-446a-8a2d-ae976ad894b8",
   "metadata": {},
   "source": [
    "The explanatory and response datasets need to be split into training and testing sets. \n",
    "\n",
    "Here we'll use [`train_test_split()`](https://scikit-learn.org/stable/modules/generated/sklearn.model_selection.train_test_split.html) with the default arguments."
   ]
  },
  {
   "cell_type": "code",
   "execution_count": null,
   "id": "9951d017-bd0d-4ac8-b786-aa2707dd0760",
   "metadata": {},
   "outputs": [],
   "source": []
  },
  {
   "cell_type": "markdown",
   "id": "e70e2815-3057-48c3-919b-09109d699eb0",
   "metadata": {},
   "source": [
    "## Fitting the model to the training set"
   ]
  },
  {
   "cell_type": "markdown",
   "id": "1cfefaa2-9496-4af0-a362-a815673c9472",
   "metadata": {},
   "source": [
    "The data is now ready to model. The first modeling step is to create a [`DecisionTreeClassifier`](https://scikit-learn.org/stable/modules/generated/sklearn.tree.DecisionTreeClassifier.html) object."
   ]
  },
  {
   "cell_type": "code",
   "execution_count": null,
   "id": "4d497352-7a31-4325-b0fd-df58d6049fa2",
   "metadata": {},
   "outputs": [],
   "source": []
  },
  {
   "cell_type": "markdown",
   "id": "fb283446-6bca-4ec6-be58-1ff8acf8fd61",
   "metadata": {},
   "source": [
    "Use the [`.fit()`](https://scikit-learn.org/stable/modules/generated/sklearn.tree.DecisionTreeClassifier.html#sklearn.tree.DecisionTreeClassifier.fit) method to fit the model to the training set."
   ]
  },
  {
   "cell_type": "code",
   "execution_count": null,
   "id": "b2cd887a-3d36-4b58-8204-5ec2243593ed",
   "metadata": {},
   "outputs": [],
   "source": []
  },
  {
   "cell_type": "markdown",
   "id": "7adef66c-eb05-4a3c-8b02-db4ae4099965",
   "metadata": {},
   "source": [
    "## Making predictions on the testing set"
   ]
  },
  {
   "cell_type": "markdown",
   "id": "5d1bbf65-7aca-49df-b03b-abf92081ea19",
   "metadata": {},
   "source": [
    "You can calculate the predicted response with the [`.predict()`](https://scikit-learn.org/stable/modules/generated/sklearn.tree.DecisionTreeClassifier.html#sklearn.tree.DecisionTreeClassifier.predict) method."
   ]
  },
  {
   "cell_type": "code",
   "execution_count": null,
   "id": "7676b9d0-4c3a-44bc-8827-141ea2162acb",
   "metadata": {},
   "outputs": [],
   "source": []
  },
  {
   "cell_type": "markdown",
   "id": "34fdc9e4-3c81-49a5-87c8-e2e9a3be09e5",
   "metadata": {},
   "source": [
    "## Assessing model performance"
   ]
  },
  {
   "cell_type": "markdown",
   "id": "41e2e91e-9500-4709-bf52-e4d7166f4423",
   "metadata": {},
   "source": [
    "There are four possible outcomes, depending on whether the actual response and the predicted response are true or false. The confusion matrix, created with [`confusion_matrix()`](https://scikit-learn.org/stable/modules/generated/sklearn.metrics.confusion_matrix.html) shows the counts of each case.\n",
    "\n",
    "|                     |**predicted Besni** |**predicted Kecimen** |\n",
    "|:--------------------|:-----------------|:----------------|\n",
    "|**actual Besni** |correct           |false positive   |\n",
    "|**actual Kecimen**  |false negative    |correct          |"
   ]
  },
  {
   "cell_type": "code",
   "execution_count": null,
   "id": "772ed3f1-3678-4049-8d6b-48d373c01403",
   "metadata": {},
   "outputs": [],
   "source": []
  },
  {
   "cell_type": "markdown",
   "id": "6d84845c-d90f-4efa-872d-09df33defb8a",
   "metadata": {},
   "source": [
    "[`accuracy_score()`](https://scikit-learn.org/stable/modules/generated/sklearn.metrics.accuracy_score.html) provides a commonly used metric about the performance of the model. \n",
    "\n",
    "**Accuracy**: What fraction of the values were correctly predicted? (Sum of diagonal divided by sum of all values.)"
   ]
  },
  {
   "cell_type": "code",
   "execution_count": null,
   "id": "4f4a2b29-164b-423b-bc7a-fa2b8ac40762",
   "metadata": {},
   "outputs": [],
   "source": []
  },
  {
   "cell_type": "markdown",
   "id": "331371ff-4e64-4958-97c8-fc2a835126fc",
   "metadata": {},
   "source": [
    "Visualizing the tree helps to see how the decisions are made. Using [`plot_tree`](https://scikit-learn.org/stable/modules/generated/sklearn.tree.plot_tree.html) is the simplest way to do this."
   ]
  },
  {
   "cell_type": "code",
   "execution_count": null,
   "id": "f15a0fa3-9b96-41d8-91db-755369144f30",
   "metadata": {},
   "outputs": [],
   "source": []
  },
  {
   "cell_type": "markdown",
   "id": "095674ec-5cf7-43d6-ba95-0a838b2a1e7d",
   "metadata": {},
   "source": [
    "## Want to learn more?"
   ]
  },
  {
   "cell_type": "markdown",
   "id": "af1c4076-e5df-4ef1-8f8f-bad4eb239459",
   "metadata": {},
   "source": [
    "- The scikit learn tutorial on [Understanding the decision tree structure](https://scikit-learn.org/stable/auto_examples/tree/plot_unveil_tree_structure.html) provides more details on how to understand the resulting tree.\n",
    "- Several DataCamp courses cover decision trees with scikit-learn. Starts with [Machine Learning with Tree-Based Models in Python](https://app.datacamp.com/learn/courses/machine-learning-with-tree-based-models-in-python), and consider industry-specific variants like [Machine Learning for Finance in Python](https://app.datacamp.com/learn/courses/machine-learning-for-finance-in-python) and [Machine Learning for Marketing in Python](https://app.datacamp.com/learn/courses/machine-learning-for-marketing-in-python).\n",
    "- Try applying your skills with this [Decision Tree Classification](https://app.datacamp.com/workspace/templates/playbook-python-decision-tree-marketing-data) Workspace template."
   ]
  }
 ],
 "metadata": {
  "editor": "DataCamp Workspace",
  "kernelspec": {
   "display_name": "Python 3 (ipykernel)",
   "language": "python",
   "name": "python3"
  },
  "language_info": {
   "codemirror_mode": {
    "name": "ipython",
    "version": 3
   },
   "file_extension": ".py",
   "mimetype": "text/x-python",
   "name": "python",
   "nbconvert_exporter": "python",
   "pygments_lexer": "ipython3",
   "version": "3.8.10"
  }
 },
 "nbformat": 4,
 "nbformat_minor": 5
}
